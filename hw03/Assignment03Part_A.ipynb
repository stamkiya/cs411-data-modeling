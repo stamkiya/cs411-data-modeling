{
  "nbformat": 4,
  "nbformat_minor": 0,
  "metadata": {
    "kernelspec": {
      "display_name": "Python 3",
      "language": "python",
      "name": "python3"
    },
    "language_info": {
      "codemirror_mode": {
        "name": "ipython",
        "version": 3
      },
      "file_extension": ".py",
      "mimetype": "text/x-python",
      "name": "python",
      "nbconvert_exporter": "python",
      "pygments_lexer": "ipython3",
      "version": "3.7.4"
    },
    "colab": {
      "name": "Copy of Assignment03Part A.ipynb",
      "provenance": [],
      "collapsed_sections": [],
      "include_colab_link": true
    },
    "accelerator": "GPU"
  },
  "cells": [
    {
      "cell_type": "markdown",
      "metadata": {
        "id": "view-in-github",
        "colab_type": "text"
      },
      "source": [
        "<a href=\"https://colab.research.google.com/github/stamkiya/cs411-data-modeling/blob/master/hw03/Assignment03Part_A.ipynb\" target=\"_parent\"><img src=\"https://colab.research.google.com/assets/colab-badge.svg\" alt=\"Open In Colab\"/></a>"
      ]
    },
    {
      "cell_type": "code",
      "metadata": {
        "id": "CzrlptP-Oazq"
      },
      "source": [
        "import numpy as np\n",
        "import pandas as pd\n",
        "from time import time\n",
        "import os\n",
        "from sklearn.preprocessing import StandardScaler\n",
        "from sklearn.metrics import silhouette_score\n",
        "from matplotlib import pyplot as plt\n",
        "from google.colab import files\n",
        "import io\n",
        "from tqdm import tqdm as loader\n",
        "\n",
        "\n",
        "%matplotlib inline\n",
        "plt.rcParams['figure.figsize'] = (20,15) # set default size of plots\n",
        "plt.rcParams['image.interpolation'] = 'nearest'\n",
        "plt.rcParams['image.cmap'] = 'gray'\n",
        "plt.style.use('ggplot')\n",
        "\n",
        "\n",
        "# for auto-reloading external modules\n",
        "# see http://stackoverflow.com/questions/1907993/autoreload-of-modules-in-ipython\n",
        "%load_ext autoreload\n",
        "%autoreload 2"
      ],
      "execution_count": 3,
      "outputs": []
    },
    {
      "cell_type": "code",
      "metadata": {
        "id": "W3Ej2RROHPFP",
        "outputId": "0fe3f03a-eb3c-4d67-a234-64e84cb7d698",
        "colab": {
          "resources": {
            "http://localhost:8080/nbextensions/google.colab/files.js": {
              "data": "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",
              "ok": true,
              "headers": [
                [
                  "content-type",
                  "application/javascript"
                ]
              ],
              "status": 200,
              "status_text": ""
            }
          },
          "base_uri": "https://localhost:8080/",
          "height": 73
        }
      },
      "source": [
        "from google.colab import files\n",
        "uploaded = files.upload()"
      ],
      "execution_count": 5,
      "outputs": [
        {
          "output_type": "display_data",
          "data": {
            "text/html": [
              "\n",
              "     <input type=\"file\" id=\"files-401a978e-192c-401a-a41f-8e3f8f85dc44\" name=\"files[]\" multiple disabled\n",
              "        style=\"border:none\" />\n",
              "     <output id=\"result-401a978e-192c-401a-a41f-8e3f8f85dc44\">\n",
              "      Upload widget is only available when the cell has been executed in the\n",
              "      current browser session. Please rerun this cell to enable.\n",
              "      </output>\n",
              "      <script src=\"/nbextensions/google.colab/files.js\"></script> "
            ],
            "text/plain": [
              "<IPython.core.display.HTML object>"
            ]
          },
          "metadata": {
            "tags": []
          }
        },
        {
          "output_type": "stream",
          "text": [
            "Saving movies_metadata.csv to movies_metadata.csv\n"
          ],
          "name": "stdout"
        }
      ]
    },
    {
      "cell_type": "code",
      "metadata": {
        "id": "uJlMS2_XO2Py",
        "outputId": "230ed946-2074-4196-eecc-9b41f25f7842",
        "colab": {
          "base_uri": "https://localhost:8080/",
          "height": 52
        }
      },
      "source": [
        "movies= pd.read_csv(io.BytesIO(uploaded['movies_metadata.csv']))"
      ],
      "execution_count": 6,
      "outputs": [
        {
          "output_type": "stream",
          "text": [
            "/usr/local/lib/python3.6/dist-packages/IPython/core/interactiveshell.py:2718: DtypeWarning: Columns (10) have mixed types.Specify dtype option on import or set low_memory=False.\n",
            "  interactivity=interactivity, compiler=compiler, result=result)\n"
          ],
          "name": "stderr"
        }
      ]
    },
    {
      "cell_type": "code",
      "metadata": {
        "id": "s4_Sarn6ZoBv"
      },
      "source": [
        "# Extra Credit \n",
        "\n",
        "def euclidean(list_A, list_B):\n",
        "  diff_vect = list_A - list_B\n",
        "  return np.sqrt(np.dot(diff_vect,diff_vect))\n",
        "\n",
        "\n",
        "def manhattan(list_A, list_B):\n",
        "  # list_length_check(list_A,list_B)\n",
        "  from numpy import sqrt\n",
        "  a_b = zip(list_A, list_B)\n",
        "  manhattan = 0\n",
        "  for x,y in a_b:\n",
        "      manhattan += abs(x-y)\n",
        "  return manhattan\n",
        "\n",
        "def Distance_matrix(X, distance_metric):\n",
        "  manhat = np.zeros(shape=(len(X),len(X)))\n",
        "  euclid = np.zeros(shape=(len(X),len(X)))\n",
        "  for i in range(len(X)):\n",
        "    for j in range(len(X)):\n",
        "      if euclid[i][j] == 0 & manhat[i][j] == 0 & i!=j:\n",
        "        if distance_metric is 'euclidean':\n",
        "          euclid[i][j] = euclidean(X[i],X[j])\n",
        "          euclid[j][i] = euclid[i][j]\n",
        "        if distance_metric is 'manhattan':\n",
        "          manhat[i][j] = manhattan(X[i],X[j])\n",
        "          manhat[j][i] = manhat[i][j]\n",
        "  return euclid, manhat\n",
        "\n",
        "  def RangeQueryX(X, distance_metric, euclid, manhat, point, eps ):\n",
        "    N=[]\n",
        "    idx=[]\n",
        "    dist = 100\n",
        "    if distance_metric is 'euclidean':\n",
        "      idx = (euclid[point]<= eps).nonzero()[0]\n",
        "    if distance_metric is 'manhattan':\n",
        "      idx=(manhat[point]<= eps).nonzero()[0]\n",
        "    N.append(idx)\n",
        "    return N"
      ],
      "execution_count": 7,
      "outputs": []
    },
    {
      "cell_type": "code",
      "metadata": {
        "id": "OfP_OPonOa0m"
      },
      "source": [
        "def euclidean(list_A, list_B):\n",
        "  diff_vect = list_A - list_B\n",
        "  return np.sqrt(np.dot(diff_vect,diff_vect))\n",
        "  # return distance.euclidean(list_A, list_B)\n",
        "\n",
        "\n",
        "def manhattan(list_A, list_B):\n",
        "  # list_length_check(list_A,list_B)\n",
        "  from numpy import sqrt\n",
        "  a_b = zip(list_A, list_B)\n",
        "  manhattan = 0\n",
        "  for x,y in a_b:\n",
        "      manhattan += abs(x-y)\n",
        "  return manhattan\n",
        "\n",
        "# def RangeQuery(X,distsnce_metric,point,eps):\n",
        "#   N = distance.cityblock(X[i], point, w=None)\n",
        "#   return N\n",
        "\n",
        "def RangeQuery(X, distance_metric, point, eps):\n",
        "  N = []\n",
        "  dist = 100\n",
        "  for i in (range(len(X))):\n",
        "      if distance_metric is 'euclidean':\n",
        "        dist = euclidean(X[i],point)\n",
        "      if distance_metric is 'manhattan':\n",
        "        dist = manhattan(X[i],point)\n",
        "      if dist <= eps:\n",
        "        N.append(i)\n",
        "  return N"
      ],
      "execution_count": 8,
      "outputs": []
    },
    {
      "cell_type": "code",
      "metadata": {
        "id": "pzmSt87oOa0S"
      },
      "source": [
        "class DBSCAN():\n",
        "    def fit(self, X, eps, min_samples, distance_metric):\n",
        "        C=0\n",
        "        label = dict.fromkeys(range(len(X)), \"unvisited\")\n",
        "        for i in loader(range(len(X))):\n",
        "          if (label[i] == \"unvisited\"):\n",
        "            N = RangeQuery(X, distance_metric, X[i], eps)\n",
        "            if (len(N)<min_samples):\n",
        "              label[i] = -1\n",
        "            C = C+1\n",
        "            label[i]= C\n",
        "            N.remove(i)\n",
        "            S = N\n",
        "            for Q in range(len(S)):\n",
        "                if label[S[Q]] == -1:\n",
        "                  label[S[Q]] = C\n",
        "                if label[S[Q]] == \"unvisited\":\n",
        "                  label[S[Q]] = C\n",
        "                Nh = RangeQuery(X, distance_metric, X[Q], eps)\n",
        "                if len(Nh) >= min_samples:\n",
        "                    S.append(Nh)\n",
        "        return label\n",
        "\n",
        "    def __init__(self):\n",
        "            pass\n",
        "            "
      ],
      "execution_count": 9,
      "outputs": []
    },
    {
      "cell_type": "code",
      "metadata": {
        "id": "VBEFgKoYOazz",
        "outputId": "6bb4f185-2396-4356-a15f-b565484dac1a",
        "colab": {
          "base_uri": "https://localhost:8080/",
          "height": 197
        }
      },
      "source": [
        "\n",
        "#retain numeric columns for clustering\n",
        "movies = movies[['budget','popularity','revenue','runtime','vote_average','vote_count']]\n",
        "\n",
        "# drop rows with null or NaN values\n",
        "movies = movies[~movies.isnull().any(axis=1)]\n",
        "movies = movies.dropna()\n",
        "\n",
        "# remove movies with less than 30 votes\n",
        "movies = movies[movies['vote_count'] > 30]\n",
        "movies.head()"
      ],
      "execution_count": 10,
      "outputs": [
        {
          "output_type": "execute_result",
          "data": {
            "text/html": [
              "<div>\n",
              "<style scoped>\n",
              "    .dataframe tbody tr th:only-of-type {\n",
              "        vertical-align: middle;\n",
              "    }\n",
              "\n",
              "    .dataframe tbody tr th {\n",
              "        vertical-align: top;\n",
              "    }\n",
              "\n",
              "    .dataframe thead th {\n",
              "        text-align: right;\n",
              "    }\n",
              "</style>\n",
              "<table border=\"1\" class=\"dataframe\">\n",
              "  <thead>\n",
              "    <tr style=\"text-align: right;\">\n",
              "      <th></th>\n",
              "      <th>budget</th>\n",
              "      <th>popularity</th>\n",
              "      <th>revenue</th>\n",
              "      <th>runtime</th>\n",
              "      <th>vote_average</th>\n",
              "      <th>vote_count</th>\n",
              "    </tr>\n",
              "  </thead>\n",
              "  <tbody>\n",
              "    <tr>\n",
              "      <th>0</th>\n",
              "      <td>30000000</td>\n",
              "      <td>21.9469</td>\n",
              "      <td>373554033.0</td>\n",
              "      <td>81.0</td>\n",
              "      <td>7.7</td>\n",
              "      <td>5415.0</td>\n",
              "    </tr>\n",
              "    <tr>\n",
              "      <th>1</th>\n",
              "      <td>65000000</td>\n",
              "      <td>17.0155</td>\n",
              "      <td>262797249.0</td>\n",
              "      <td>104.0</td>\n",
              "      <td>6.9</td>\n",
              "      <td>2413.0</td>\n",
              "    </tr>\n",
              "    <tr>\n",
              "      <th>2</th>\n",
              "      <td>0</td>\n",
              "      <td>11.7129</td>\n",
              "      <td>0.0</td>\n",
              "      <td>101.0</td>\n",
              "      <td>6.5</td>\n",
              "      <td>92.0</td>\n",
              "    </tr>\n",
              "    <tr>\n",
              "      <th>3</th>\n",
              "      <td>16000000</td>\n",
              "      <td>3.85949</td>\n",
              "      <td>81452156.0</td>\n",
              "      <td>127.0</td>\n",
              "      <td>6.1</td>\n",
              "      <td>34.0</td>\n",
              "    </tr>\n",
              "    <tr>\n",
              "      <th>4</th>\n",
              "      <td>0</td>\n",
              "      <td>8.38752</td>\n",
              "      <td>76578911.0</td>\n",
              "      <td>106.0</td>\n",
              "      <td>5.7</td>\n",
              "      <td>173.0</td>\n",
              "    </tr>\n",
              "  </tbody>\n",
              "</table>\n",
              "</div>"
            ],
            "text/plain": [
              "     budget popularity      revenue  runtime  vote_average  vote_count\n",
              "0  30000000    21.9469  373554033.0     81.0           7.7      5415.0\n",
              "1  65000000    17.0155  262797249.0    104.0           6.9      2413.0\n",
              "2         0    11.7129          0.0    101.0           6.5        92.0\n",
              "3  16000000    3.85949   81452156.0    127.0           6.1        34.0\n",
              "4         0    8.38752   76578911.0    106.0           5.7       173.0"
            ]
          },
          "metadata": {
            "tags": []
          },
          "execution_count": 10
        }
      ]
    },
    {
      "cell_type": "code",
      "metadata": {
        "id": "nIgZUdtJOaz5"
      },
      "source": [
        "scaler = StandardScaler()\n",
        "movies_standardized = scaler.fit_transform(movies.values)"
      ],
      "execution_count": 11,
      "outputs": []
    },
    {
      "cell_type": "code",
      "metadata": {
        "id": "iB5RgufoOa0A",
        "outputId": "8e8183f2-df68-4acf-9bac-a32df449e85c",
        "colab": {
          "base_uri": "https://localhost:8080/",
          "height": 70
        }
      },
      "source": [
        "movies.columns"
      ],
      "execution_count": 12,
      "outputs": [
        {
          "output_type": "execute_result",
          "data": {
            "text/plain": [
              "Index(['budget', 'popularity', 'revenue', 'runtime', 'vote_average',\n",
              "       'vote_count'],\n",
              "      dtype='object')"
            ]
          },
          "metadata": {
            "tags": []
          },
          "execution_count": 12
        }
      ]
    },
    {
      "cell_type": "code",
      "metadata": {
        "id": "Gsw1DIvBOa0b",
        "outputId": "1c4c5685-52b5-4917-f7e1-cfe0269892dc",
        "colab": {
          "base_uri": "https://localhost:8080/",
          "height": 105
        }
      },
      "source": [
        "{'eps': 10.0,\n",
        " 'min_samples': 4,\n",
        " 'distance_metric': 'euclidean',\n",
        " 'num_labels': 2,\n",
        " 'silhouette': 0.9428480074887184}"
      ],
      "execution_count": 13,
      "outputs": [
        {
          "output_type": "execute_result",
          "data": {
            "text/plain": [
              "{'distance_metric': 'euclidean',\n",
              " 'eps': 10.0,\n",
              " 'min_samples': 4,\n",
              " 'num_labels': 2,\n",
              " 'silhouette': 0.9428480074887184}"
            ]
          },
          "metadata": {
            "tags": []
          },
          "execution_count": 13
        }
      ]
    },
    {
      "cell_type": "markdown",
      "metadata": {
        "id": "wnR58jcHxtrv"
      },
      "source": [
        "### Find Optimal EPS  \n",
        "calculate all distance and sort in ascending order.  \n",
        "plot the distances on a graph.  \n",
        "find the elbow or transition point to be the optimal eps"
      ]
    },
    {
      "cell_type": "code",
      "metadata": {
        "id": "vZedRyLWpYSV",
        "outputId": "117e2991-310c-413e-d5e2-ec713dea9171",
        "colab": {
          "base_uri": "https://localhost:8080/",
          "height": 34
        }
      },
      "source": [
        "#findOptimal EPS\n",
        "dist = np.zeros(shape=(len(movies_standardized),len(movies_standardized)))\n",
        "for i in loader(range(len(movies_standardized))):\n",
        "  for j in range(len(movies_standardized)):\n",
        "    dist[i][j] = euclidean(movies_standardized[i],movies_standardized[j])\n",
        "\n",
        "# distdf=pd.DataFrame(np.sort(dist.values, axis=0), index=dist.index, columns=dist.columns)\n"
      ],
      "execution_count": null,
      "outputs": [
        {
          "output_type": "stream",
          "text": [
            " 26%|██▌       | 3172/12178 [03:27<09:45, 15.38it/s]"
          ],
          "name": "stderr"
        }
      ]
    },
    {
      "cell_type": "code",
      "metadata": {
        "id": "t3kq-uC6uwUD"
      },
      "source": [
        "dist_sorted = np.sort(dist, axis=None)  "
      ],
      "execution_count": null,
      "outputs": []
    },
    {
      "cell_type": "code",
      "metadata": {
        "id": "vA91AdoesFVE"
      },
      "source": [
        "plt.plot(dist_sorted)\n",
        "plt.ylabel(' Distances')\n",
        "plt.show()"
      ],
      "execution_count": null,
      "outputs": []
    },
    {
      "cell_type": "markdown",
      "metadata": {
        "id": "E_trdB-_xzab"
      },
      "source": [
        "### Run DBSCAN "
      ]
    },
    {
      "cell_type": "code",
      "metadata": {
        "id": "8j0_bI3OOa0g"
      },
      "source": [
        "eps = [0.1, 1.0, 2.0, 3.5, 5.0, 10.0]\n",
        "min_samples = [4, 9, 15, 30, 50]\n",
        "distance_metric = ['euclidean', 'manhattan']\n",
        "\n",
        "dbscan_basket = []\n",
        "best_param, best_score, best_labels = None, -1., []"
      ],
      "execution_count": null,
      "outputs": []
    },
    {
      "cell_type": "code",
      "metadata": {
        "id": "IWJBKRCQaq9A"
      },
      "source": [
        "for e in eps:\n",
        "    for ms in min_samples:\n",
        "        for dm in distance_metric:\n",
        "            dbscan = DBSCAN()\n",
        "            labels = dbscan.fit(movies_standardized,e,ms,dm)\n",
        "            num_labels = np.unique(labels).shape[0]\n",
        "            if num_labels < 2: continue\n",
        "            sil = silhouette_score(movies_standardized, labels)\n",
        "            params = {\n",
        "                'eps': e,\n",
        "                'min_samples': ms,\n",
        "                'distance_metric': dm,\n",
        "                'num_labels': num_labels,\n",
        "                'silhouette': sil\n",
        "            }\n",
        "\n",
        "            dbscan_basket.append(params)\n",
        "            if sil > best_score:\n",
        "                best_param = params\n",
        "                best_score = sil\n",
        "                best_labels = labels"
      ],
      "execution_count": null,
      "outputs": []
    },
    {
      "cell_type": "code",
      "metadata": {
        "id": "w4wwz_bkqZEI",
        "outputId": "83f72b15-50f7-48e6-a26b-454397196873",
        "colab": {
          "base_uri": "https://localhost:8080/",
          "height": 503
        }
      },
      "source": [
        "#Sanity Check\n",
        "dbscan = DBSCAN()\n",
        "labels = dbscan.fit(movies_standardized, 5,1,'euclidean')"
      ],
      "execution_count": null,
      "outputs": [
        {
          "output_type": "stream",
          "text": [
            "\n",
            "  0%|          | 0/12178 [00:00<?, ?it/s]\u001b[A\n",
            "  0%|          | 1/12178 [00:20<68:47:10, 20.34s/it]\u001b[A\n",
            "  0%|          | 3/12178 [11:01<373:30:01, 110.44s/it]\u001b[A\n",
            "  1%|          | 134/12178 [12:14<259:11:44, 77.47s/it]\u001b[A\n",
            "  2%|▏         | 188/12178 [12:14<180:37:44, 54.23s/it]\u001b[A\n",
            "  2%|▏         | 201/12178 [12:15<126:20:46, 37.98s/it]\u001b[A\n",
            "  2%|▏         | 227/12178 [12:17<88:20:17, 26.61s/it] \u001b[A\n",
            "  2%|▏         | 304/12178 [12:23<61:30:49, 18.65s/it]\u001b[A\n",
            "  3%|▎         | 354/12178 [12:24<42:53:11, 13.06s/it]\u001b[A\n",
            "  3%|▎         | 354/12178 [12:37<42:53:11, 13.06s/it]\u001b[A\n",
            "  4%|▍         | 516/12178 [13:17<29:55:50,  9.24s/it]\u001b[A\n",
            "  8%|▊         | 981/12178 [13:17<20:07:00,  6.47s/it]\u001b[A\n",
            " 31%|███       | 3764/12178 [13:18<10:34:54,  4.53s/it]\u001b[A\n",
            " 34%|███▍      | 4114/12178 [13:21<7:06:16,  3.17s/it] \u001b[A\n",
            " 34%|███▍      | 4114/12178 [13:37<7:06:16,  3.17s/it]\u001b[A\n",
            " 36%|███▌      | 4384/12178 [18:27<5:32:34,  2.56s/it]\u001b[A\n",
            " 45%|████▍     | 5469/12178 [18:31<3:20:32,  1.79s/it]\u001b[A\n",
            " 51%|█████     | 6230/12178 [18:38<2:04:42,  1.26s/it]\u001b[A\n",
            " 58%|█████▊    | 7117/12178 [18:38<1:14:17,  1.14it/s]\u001b[A\n",
            " 61%|██████▏   | 7483/12178 [18:39<48:16,  1.62it/s]  \u001b[A\n",
            " 76%|███████▌  | 9239/12178 [18:39<21:09,  2.32it/s]\u001b[A\n",
            " 78%|███████▊  | 9445/12178 [18:39<13:47,  3.30it/s]\u001b[A\n",
            " 79%|███████▉  | 9617/12178 [18:40<09:03,  4.71it/s]\u001b[A\n",
            " 81%|████████  | 9827/12178 [18:40<05:49,  6.72it/s]\u001b[A\n",
            " 85%|████████▌ | 10392/12178 [18:40<03:06,  9.60it/s]\u001b[A\n",
            " 89%|████████▉ | 10825/12178 [18:40<01:38, 13.70it/s]\u001b[A\n",
            "100%|██████████| 12178/12178 [18:44<00:00, 10.83it/s]\n"
          ],
          "name": "stderr"
        }
      ]
    },
    {
      "cell_type": "code",
      "metadata": {
        "id": "PVP_L6rhuihL"
      },
      "source": [
        "labels"
      ],
      "execution_count": null,
      "outputs": []
    },
    {
      "cell_type": "code",
      "metadata": {
        "id": "Y_PRGyCArbO0"
      },
      "source": [
        "test = RangeQuery(movies_standardized, 'manhattan', movies_standardized[2], 2)"
      ],
      "execution_count": null,
      "outputs": []
    },
    {
      "cell_type": "code",
      "metadata": {
        "id": "tbV5RF0g9drF"
      },
      "source": [
        "best_param"
      ],
      "execution_count": null,
      "outputs": []
    },
    {
      "cell_type": "code",
      "metadata": {
        "id": "aLEkDcdA90nC"
      },
      "source": [
        "test_euclid,test_manh = Distance_matrix(movies_standardized, 'euclidean')"
      ],
      "execution_count": null,
      "outputs": []
    },
    {
      "cell_type": "code",
      "metadata": {
        "id": "SRMF3w0DlGO2"
      },
      "source": [
        ""
      ],
      "execution_count": null,
      "outputs": []
    }
  ]
}